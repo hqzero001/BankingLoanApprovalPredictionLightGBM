{
 "cells": [
  {
   "cell_type": "code",
   "execution_count": 8,
   "metadata": {},
   "outputs": [
    {
     "name": "stdout",
     "output_type": "stream",
     "text": [
      "Pipeline(steps=[('preprocessor',\n",
      "                 ColumnTransformer(remainder='passthrough',\n",
      "                                   transformers=[('cat',\n",
      "                                                  Pipeline(steps=[('imputer',\n",
      "                                                                   SimpleImputer(strategy='most_frequent')),\n",
      "                                                                  ('onehot',\n",
      "                                                                   OneHotEncoder(drop='first',\n",
      "                                                                                 handle_unknown='ignore'))]),\n",
      "                                                  ['EmploymentStatus',\n",
      "                                                   'EducationLevel',\n",
      "                                                   'LoanDuration',\n",
      "                                                   'MaritalStatus',\n",
      "                                                   'NumberOfDependents',\n",
      "                                                   'HomeOwnershipStatus',\n",
      "                                                   'NumberOfOpenCreditLines',\n",
      "                                                   'NumberOfCreditInquiries',\n",
      "                                                   'BankruptcyHistory',\n",
      "                                                   'LoanPurpose',\n",
      "                                                   'PreviousLoanDefaults'])])),\n",
      "                ('classifier',\n",
      "                 LGBMClassifier(learning_rate=0.12, min_data_in_leaf=5,\n",
      "                                n_estimators=500))])\n"
     ]
    }
   ],
   "source": [
    "import joblib\n",
    "loaded_pipeline = joblib.load(\"trained_pipeline.pkl\")\n",
    "print(loaded_pipeline)\n",
    "\n"
   ]
  },
  {
   "cell_type": "code",
   "execution_count": 7,
   "metadata": {},
   "outputs": [
    {
     "name": "stdout",
     "output_type": "stream",
     "text": [
      "<class 'sklearn.pipeline.Pipeline'>\n"
     ]
    }
   ],
   "source": [
    "print(type(loaded_pipeline))"
   ]
  },
  {
   "cell_type": "code",
   "execution_count": 17,
   "metadata": {},
   "outputs": [
    {
     "name": "stderr",
     "output_type": "stream",
     "text": [
      "2025-03-06 22:12:31.232 WARNING streamlit.runtime.scriptrunner_utils.script_run_context: Thread 'MainThread': missing ScriptRunContext! This warning can be ignored when running in bare mode.\n",
      "2025-03-06 22:12:31.330 \n",
      "  \u001b[33m\u001b[1mWarning:\u001b[0m to view this Streamlit app on a browser, run it with the following\n",
      "  command:\n",
      "\n",
      "    streamlit run c:\\Apps\\miniconda3forpython\\envs\\myenv\\Lib\\site-packages\\ipykernel_launcher.py [ARGUMENTS]\n",
      "2025-03-06 22:12:31.331 Thread 'MainThread': missing ScriptRunContext! This warning can be ignored when running in bare mode.\n"
     ]
    }
   ],
   "source": [
    "import streamlit as st\n",
    "# Load trained model\n",
    "if os.path.exists('trained_pipeline.pkl'):\n",
    "    with open('trained_pipeline.pkl', 'rb') as file:\n",
    "        loaded_pipeline = pickle.load(file)\n",
    "    \n",
    "    # Kiểm tra xem loaded_pipeline có đúng là pipeline không\n",
    "    if hasattr(loaded_pipeline, \"predict\"):\n",
    "        st.write(\"Mô hình đã được load thành công!\")\n",
    "    else:\n",
    "        st.error(\"LỖI: Model không hợp lệ, kiểm tra lại trained_pipeline.pkl!\")\n"
   ]
  },
  {
   "cell_type": "code",
   "execution_count": 10,
   "metadata": {},
   "outputs": [
    {
     "name": "stdout",
     "output_type": "stream",
     "text": [
      "['ID' 'Age' 'AnnualIncome' 'CreditScore' 'EmploymentStatus'\n",
      " 'EducationLevel' 'Experience' 'LoanAmount' 'LoanDuration' 'MaritalStatus'\n",
      " 'NumberOfDependents' 'HomeOwnershipStatus' 'MonthlyDebtPayments'\n",
      " 'CreditCardUtilizationRate' 'NumberOfOpenCreditLines'\n",
      " 'NumberOfCreditInquiries' 'DebtToIncomeRatio' 'BankruptcyHistory'\n",
      " 'LoanPurpose' 'PreviousLoanDefaults' 'PaymentHistory'\n",
      " 'LengthOfCreditHistory' 'SavingsAccountBalance' 'CheckingAccountBalance'\n",
      " 'TotalAssets' 'TotalLiabilities' 'MonthlyIncome'\n",
      " 'UtilityBillsPaymentHistory' 'JobTenure' 'NetWorth' 'BaseInterestRate'\n",
      " 'InterestRate' 'MonthlyLoanPayment' 'TotalDebtToIncomeRatio']\n"
     ]
    }
   ],
   "source": [
    "print(loaded_pipeline.feature_names_in_)\n"
   ]
  },
  {
   "cell_type": "code",
   "execution_count": 15,
   "metadata": {},
   "outputs": [
    {
     "name": "stdout",
     "output_type": "stream",
     "text": [
      "<class 'sklearn.pipeline.Pipeline'>\n",
      "LGBMClassifier(learning_rate=0.12, min_data_in_leaf=5, n_estimators=500)\n",
      "Pipeline hợp lệ!\n"
     ]
    }
   ],
   "source": [
    "import joblib\n",
    "\n",
    "# Load lại pipeline\n",
    "loaded_pipeline = joblib.load('trained_pipeline.pkl')\n",
    "\n",
    "# Kiểm tra kiểu của pipeline\n",
    "print(type(loaded_pipeline))  # Kết quả phải là <class 'sklearn.pipeline.Pipeline'>\n",
    "\n",
    "# Kiểm tra pipeline có chứa 'classifier' không\n",
    "print(loaded_pipeline.named_steps['classifier'])  \n",
    "if hasattr(loaded_pipeline, \"predict\"):\n",
    "    print(\"Pipeline hợp lệ!\")\n",
    "else:\n",
    "    print(\"Lỗi: Pipeline không có phương thức `predict`\")\n",
    "\n"
   ]
  }
 ],
 "metadata": {
  "kernelspec": {
   "display_name": "myenv",
   "language": "python",
   "name": "python3"
  },
  "language_info": {
   "codemirror_mode": {
    "name": "ipython",
    "version": 3
   },
   "file_extension": ".py",
   "mimetype": "text/x-python",
   "name": "python",
   "nbconvert_exporter": "python",
   "pygments_lexer": "ipython3",
   "version": "3.12.4"
  }
 },
 "nbformat": 4,
 "nbformat_minor": 2
}
